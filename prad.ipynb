{
 "cells": [
  {
   "cell_type": "code",
   "execution_count": 1,
   "metadata": {},
   "outputs": [],
   "source": [
    "from pulp import *\n",
    "import pandas as pd"
   ]
  },
  {
   "cell_type": "code",
   "execution_count": 2,
   "metadata": {},
   "outputs": [],
   "source": [
    "\n",
    "prob = LpProblem(\"Największy_możliwy_prąd\",LpMaximize)\n",
    "\n",
    "# zmienna decyzyjna\n",
    "\n",
    "prad = LpVariable(\"Prąd\",0)\n",
    "#wartości rezystorów\n",
    "# R1=8\n",
    "# R2=6\n",
    "# R3=4\n",
    "# R4=10\n",
    "# R5=8\n",
    "\n",
    "#połączenie rezystorów:\n",
    "#  R1      R4\n",
    "#      R3\n",
    "#  R2      R5\n",
    "\n",
    "# ograniczenia prądowe na każdym z rezystorów:\n",
    "prad_R1 = LpVariable(\"IR1\",0,2)\n",
    "prad_R2 = LpVariable(\"IR2\",0,3)\n",
    "prad_R3 = LpVariable(\"IR3\",0,4)\n",
    "prad_R4 = LpVariable(\"IR4\",0,2)\n",
    "prad_R5 = LpVariable(\"IR5\",0,2)\n",
    "\n",
    "\n",
    "\n",
    "prob += prad\n",
    "prob += (prad_R1 + prad_R2) == prad_R3 == (prad_R4 + prad_R5) == prad\n",
    "prob += prad*6/14 == prad_R1\n",
    "prob += prad*8/14 == prad_R2\n",
    "prob += prad_R1 + prad_R2== prad_R3\n",
    "prob += prad *10/18 == prad_R4\n",
    "prob += prad *8/18 == prad_R5\n",
    "\n",
    "\n",
    "\n",
    "\n",
    "\n"
   ]
  },
  {
   "cell_type": "code",
   "execution_count": 3,
   "metadata": {},
   "outputs": [
    {
     "name": "stdout",
     "output_type": "stream",
     "text": [
      "Status:  Optimal\n",
      "IR1 = 1.5428571\n",
      "IR2 = 2.0571429\n",
      "IR3 = 3.6\n",
      "IR4 = 2.0\n",
      "IR5 = 1.6\n",
      "Prąd = 3.6\n",
      "Maksymalny prąd wynosi 3.6\n"
     ]
    }
   ],
   "source": [
    "prob.solve()\n",
    "print(\"Status: \", LpStatus[prob.status])\n",
    "for v in prob.variables():\n",
    "    print(v.name,\"=\", v.varValue)\n",
    "print(\"Maksymalny prąd wynosi {}\". format(value(prob.objective)))"
   ]
  },
  {
   "cell_type": "code",
   "execution_count": null,
   "metadata": {},
   "outputs": [],
   "source": []
  }
 ],
 "metadata": {
  "kernelspec": {
   "display_name": "Python 3",
   "language": "python",
   "name": "python3"
  },
  "language_info": {
   "codemirror_mode": {
    "name": "ipython",
    "version": 3
   },
   "file_extension": ".py",
   "mimetype": "text/x-python",
   "name": "python",
   "nbconvert_exporter": "python",
   "pygments_lexer": "ipython3",
   "version": "3.6.7"
  }
 },
 "nbformat": 4,
 "nbformat_minor": 2
}
