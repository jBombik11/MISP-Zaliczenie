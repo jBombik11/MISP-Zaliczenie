{
 "cells": [
  {
   "cell_type": "code",
   "execution_count": 16,
   "metadata": {},
   "outputs": [],
   "source": [
    "class Sprawdzanie_numeru():\n",
    "    def __init__(self, numer_tel):\n",
    "        self.numer_cyfry = numer_tel\n",
    "        self.slownik = {  \n",
    "            \"1\":\"jeden\",\n",
    "            \"2\":\"dwa\",\n",
    "            \"3\":\"trzy\",\n",
    "            \"4\":\"cztery\",\n",
    "            \"5\":\"pięć\", \n",
    "            \"6\":\"sześć\", \n",
    "            \"7\":\"siedem\", \n",
    "            \"8\":\"osiem\", \n",
    "            \"9\":\"dziewięć\", \n",
    "            \"0\":\"zero\"} #Stworzenie tablicy cyfr\n",
    "        self.wojewodztwo = {\n",
    "            \"22\":\"Warszawa\", \n",
    "            \"42\":\"Lodz\", \n",
    "            \"12\": \"Krakow\", \n",
    "            \"32\":\"Katowice\",\n",
    "            \"33\":\"Bielsko Biala\", \n",
    "            \"34\": \"Czestochowa\", \n",
    "            \"41\": \"Kielce\", \n",
    "            \"43\":\"Sieradz\", \n",
    "            \"44\":\"Piotrkow Trybunalski\",} #Stworzenie tablicy numerów kierunkowych wraz z ich województwami\n",
    "        \n",
    "    def prawidłowy_rozmiar(self):\n",
    "        if len(self.numer_cyfry)!= 9:\n",
    "            print(\"Nie ma takiego numeru\") #Definicja sprawdzająca czy długosć numeru telefonu jest prawidłowa\n",
    "         \n",
    "    def __repr__(self):\n",
    "            if self.numer_cyfry[:2] in self.wojewodztwo:\n",
    "                print(self.wojewodztwo[self.numer_cyfry[:2]]) # Funkcja warunkowa sprwdzająca czy podany numer należy bo bazy numerów kierunkowych\n",
    "            else:\n",
    "                print(\"telefon komórkowy\") #Jeżeli nie należy wyświetlana jest informacja ze jest to numer z telefonu komurkowego\n",
    "            num_tel_zmiana = \"\"\n",
    "            for numery in self.numer_cyfry:\n",
    "                num_tel_zmiana+= (\" \"+self.slownik[numery]) #funckja zamieniajca cyfry na cyfry pisane słownie\n",
    "            return num_tel_zmiana"
   ]
  },
  {
   "cell_type": "code",
   "execution_count": 17,
   "metadata": {},
   "outputs": [
    {
     "name": "stdout",
     "output_type": "stream",
     "text": [
      "Lodz\n",
      " cztery dwa cztery osiem siedem dwa pięć trzy siedem\n"
     ]
    }
   ],
   "source": [
    "\n",
    "\n",
    "numer=Sprawdzanie_numeru(\"424872537\")\n",
    "print(numer)\n",
    "\n"
   ]
  },
  {
   "cell_type": "code",
   "execution_count": null,
   "metadata": {},
   "outputs": [],
   "source": []
  }
 ],
 "metadata": {
  "kernelspec": {
   "display_name": "Python 3",
   "language": "python",
   "name": "python3"
  },
  "language_info": {
   "codemirror_mode": {
    "name": "ipython",
    "version": 3
   },
   "file_extension": ".py",
   "mimetype": "text/x-python",
   "name": "python",
   "nbconvert_exporter": "python",
   "pygments_lexer": "ipython3",
   "version": "3.6.7"
  }
 },
 "nbformat": 4,
 "nbformat_minor": 2
}
