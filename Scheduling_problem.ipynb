{
 "cells": [
  {
   "cell_type": "code",
   "execution_count": 12,
   "metadata": {},
   "outputs": [],
   "source": [
    "from pulp import *\n",
    "import pandas as pd\n",
    "import numpy as np"
   ]
  },
  {
   "cell_type": "code",
   "execution_count": 19,
   "metadata": {},
   "outputs": [],
   "source": [
    "# Problem optymalizacyjny, Plan pracy\n",
    "# Uzupełnić plan pracy z uwzględnieniem dostępności pracowników oraz wynagrodzenia za godzinę pracy dla danego pracownika\n",
    "# Cel - jak najmniejszy koszt dla pracodawcy\n",
    "\n",
    "prob = LpProblem(\"koszt\",LpMinimize)\n",
    "\n",
    "# Stworzenie dla każdej osoby zmiennej dla każdego dnia pracy - 8 osób * 6 dni\n",
    "\n",
    "# Osoba    Dostepność[h]     Cena za godzine pracy\n",
    "# Igor          4                     170\n",
    "# Marcin        2                      60\n",
    "# Franek        2                      80\n",
    "# Piotr         8                     200\n",
    "# Ania          8                      90\n",
    "# Zenon         2                      10\n",
    "# Filip         8                      80\n",
    "# Kuba          6                      60\n",
    "\n",
    "# Plan dla sklepu: \n",
    "# pon = 8\n",
    "# wt = 4\n",
    "# sr = 4\n",
    "# czw = 4\n",
    "# pt = 8\n",
    "# sob = 2\n",
    "\n",
    "prob = LpProblem(\"Scheduling_problem\", LpMinimize)\n",
    "\n",
    "dni = [\"Poniedziałek\", \"Wtorek\", \"Środa\", \"Czwartek\", \"Piątek\", \"Sobota\", \"Niedziela\"]\n",
    "osoby = [\"Igor\", \"Marcin\", \"Franek\", \"Piotr\", \"Ania\", \"Zenon\",\"Filip\",\"Kuba\"]\n",
    "stawka = [170,60,80,200,90,10,80,60] # Stawka godzinowa osób.\n",
    "dostepnosc = [4,2,2,8,8,2,8,6] # Dostępność godzin osób tygodniowo.\n",
    "godzinyOtwarcia = [8,4,4,4,8,2,0] # Ilość godzin do wypracowania w ciągu każdego dnia.\n",
    "\n",
    "\n",
    "j=0\n",
    "stawki={}\n",
    "for i in osoby:\n",
    "    stawki[i]=stawka[j]\n",
    "    j+=1"
   ]
  },
  {
   "cell_type": "code",
   "execution_count": 20,
   "metadata": {},
   "outputs": [
    {
     "data": {
      "text/plain": [
       "1"
      ]
     },
     "execution_count": 20,
     "metadata": {},
     "output_type": "execute_result"
    }
   ],
   "source": [
    "# Stworzenie zmiennych potrzebnych do roziwązania problemu, funkcji celu, dodatkowych ograniczeń\n",
    "prob += (pOSOBA1+wOSOBA1+sOSOBA1+czwOSOBA1+ptOSOBA1+sobOSOBA1)*170+(pOSOBA2+wOSOBA2+sOSOBA2+czwOSOBA2+ptOSOBA2 + sobOSOBA2)*60+(pOSOBA3+wOSOBA3+sOSOBA3+czwOSOBA3+ptOSOBA3+sobOSOBA3)*80+(pOSOBA4+wOSOBA4+sOSOBA4+czwOSOBA4+ptOSOBA4+sobOSOBA4)*200+(pOSOBA5+wOSOBA5+sOSOBA5+czwOSOBA5+ptOSOBA5+sobOSOBA5)*90+(pOSOBA6+wOSOBA6+sOSOBA6+czwOSOBA6+ptOSOBA6+sobOSOBA6)*18+(pOSOBA7+wOSOBA7+sOSOBA7+czwOSOBA7+ptOSOBA7+sobOSOBA7)*100+(pOSOBA8+wOSOBA8+sOSOBA8+czwOSOBA8+ptOSOBA8+sobOSOBA8)*100\n",
    "\n",
    "\n",
    "czas_otwarcia_dni = LpVariable.dicts(\"czas_otwarcia\",((i) for i in dni), lowBound=0, cat=\"Integer\")\n",
    "czas_dostepnosc_tyg = LpVariable.dicts(\"dostepnosc\",((i) for i in osoby), lowBound=0, upBound=((j) for j in dostepnosc),cat=\"Integer\")\n",
    "czas_pracy_pon = LpVariable.dicts(\"czaspracy_pon\",((i) for i in osoby), lowBound=0,cat=\"Integer\")\n",
    "czas_pracy_wt = LpVariable.dicts(\"czaspracy_wt\",((i) for i in osoby), lowBound=0,cat=\"Integer\")\n",
    "czas_pracy_sr = LpVariable.dicts(\"czaspracy_sr\",((i) for i in osoby), lowBound=0,cat=\"Integer\")\n",
    "czas_pracy_cz = LpVariable.dicts(\"czaspracy_cz\",((i) for i in osoby), lowBound=0,cat=\"Integer\")\n",
    "czas_pracy_pt = LpVariable.dicts(\"czaspracy_pt\",((i) for i in osoby), lowBound=0,cat=\"Integer\")\n",
    "czas_pracy_sob = LpVariable.dicts(\"czaspracy_sob\",((i) for i in osoby), lowBound=0,cat=\"Integer\")\n",
    "czas_pracy_nd = LpVariable.dicts(\"czaspracy_nd\",((i) for i in osoby), lowBound=0,cat=\"Integer\")\n",
    "\n",
    "\n",
    "#funkcja celu czyli koszt pracy każdej osoby w tyg -> to minimalizujemy\n",
    "prob+=(pulp.lpSum([(czas_pracy_pon[i]+czas_pracy_wt[i]+czas_pracy_sr[i]+czas_pracy_cz[i]+czas_pracy_pt[i]+czas_pracy_sob[i]+czas_pracy_nd[i]) *stawki[i]] for i in osoby ))\n",
    "\n",
    "\n",
    "#laczna suma pracy osob w każdym dniu rowna dlugosci otwarcia sklepu\n",
    "prob+=pulp.lpSum([czas_pracy_pon[i] for i in osoby])==godzinyOtwarcia[0]\n",
    "prob+=pulp.lpSum([czas_pracy_wt[i] for i in osoby])==godzinyOtwarcia[1]\n",
    "prob+=pulp.lpSum([czas_pracy_sr[i] for i in osoby])==godzinyOtwarcia[2]\n",
    "prob+=pulp.lpSum([czas_pracy_cz[i] for i in osoby])==godzinyOtwarcia[3]\n",
    "prob+=pulp.lpSum([czas_pracy_pt[i] for i in osoby])==godzinyOtwarcia[4]\n",
    "prob+=pulp.lpSum([czas_pracy_sob[i] for i in osoby])==godzinyOtwarcia[5]\n",
    "prob+=pulp.lpSum([czas_pracy_nd[i] for i in osoby])==godzinyOtwarcia[6]\n",
    "\n",
    "# dodaje ograniczenie w postaci suma czasu pracy osoby z tygodnia ma byc mniejsza bądź równa dostępności tej osoby\n",
    "j=0\n",
    "for i in osoby:\n",
    "    prob+=czas_pracy_pon[i]+czas_pracy_wt[i]+czas_pracy_sr[i]+czas_pracy_cz[i]+czas_pracy_pt[i]+czas_pracy_sob[i]+czas_pracy_nd[i]<=dostepnosc[j]\n",
    "    j+=1\n",
    "    \n",
    "    \n",
    "prob.solve()"
   ]
  },
  {
   "cell_type": "code",
   "execution_count": 21,
   "metadata": {},
   "outputs": [
    {
     "name": "stdout",
     "output_type": "stream",
     "text": [
      "Status: Optimal\n",
      "czaspracy_pon_Igor = 2.0\n",
      "czaspracy_pon_Kuba = 4.0\n",
      "czaspracy_pon_Marcin = 2.0\n",
      "czaspracy_wt_Franek = 2.0\n",
      "czaspracy_wt_Kuba = 2.0\n",
      "czaspracy_sr_Filip = 2.0\n",
      "czaspracy_sr_Zenon = 2.0\n",
      "czaspracy_cz_Filip = 4.0\n",
      "czaspracy_pt_Ania = 8.0\n",
      "czaspracy_sob_Filip = 2.0\n",
      "\n",
      "Koszt zatrudnienia studentów to 2360.0 zł.  \n"
     ]
    }
   ],
   "source": [
    "#Drukowanie informacji o problemie, liczbie godzin i dniu pracy\n",
    "print(\"Status:\", LpStatus[prob.status])\n",
    "for v in prob.variables():\n",
    "    if v.varValue != 0:\n",
    "            if (v.name.find(\"_pon\")>0):\n",
    "                print(v.name, \"=\", v.varValue)\n",
    "for v in prob.variables():\n",
    "    if v.varValue != 0:\n",
    "            if (v.name.find(\"_wt\")>0):\n",
    "                print(v.name, \"=\", v.varValue)             \n",
    "for v in prob.variables():\n",
    "    if v.varValue != 0:\n",
    "            if (v.name.find(\"_sr\")>0):\n",
    "                print(v.name, \"=\", v.varValue)  \n",
    "for v in prob.variables():\n",
    "    if v.varValue != 0:\n",
    "            if (v.name.find(\"_cz\")>0):\n",
    "                print(v.name, \"=\", v.varValue)   \n",
    "for v in prob.variables():\n",
    "    if v.varValue != 0:\n",
    "            if (v.name.find(\"_pt\")>0):\n",
    "                print(v.name, \"=\", v.varValue) \n",
    "for v in prob.variables():\n",
    "    if v.varValue != 0:\n",
    "            if (v.name.find(\"_sob\")>0):\n",
    "                print(v.name, \"=\", v.varValue)   \n",
    "for v in prob.variables():\n",
    "    if v.varValue != 0:\n",
    "            if (v.name.find(\"_nd\")>0):\n",
    "                print(v.name, \"=\", v.varValue)                  \n",
    "print(\"\\nKoszt zatrudnienia studentów to {} zł.  \".format( value(prob.objective)))"
   ]
  }
 ],
 "metadata": {
  "kernelspec": {
   "display_name": "Python 3",
   "language": "python",
   "name": "python3"
  },
  "language_info": {
   "codemirror_mode": {
    "name": "ipython",
    "version": 3
   },
   "file_extension": ".py",
   "mimetype": "text/x-python",
   "name": "python",
   "nbconvert_exporter": "python",
   "pygments_lexer": "ipython3",
   "version": "3.6.7"
  }
 },
 "nbformat": 4,
 "nbformat_minor": 2
}
