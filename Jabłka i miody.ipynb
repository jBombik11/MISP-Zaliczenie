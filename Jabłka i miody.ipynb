{
 "cells": [
  {
   "cell_type": "markdown",
   "metadata": {},
   "source": [
    "# Jabłka i miody\n",
    " W sklepie ze zdrową żywnością wytwarza się produkty dżem jabłkowy i mus jabłkowy. Wytworzenie jednostki produktu I wymaga zużycia 8 jabłek i 5 łyżek miodu, zaś jednostki musu - 2 jabłek i 5 łyżek miodu. Dostawy surowców w każdym dniu wynosza dla jabłek i miodu odpowiednio 40 i 25 jednostek. Dżem sprzedaje się po 16 zł a mus po 11 zł. Jabłko kosztuje 0.3 zł, łyżka miodu 0.2.\n",
    "\n",
    "Określ dzienną produkcję każdego produktu tak, aby otrzymać maksymalny zysk. Dla dwóch przypadków:\n",
    "\n",
    "    ( HURT) wielkość produkcji można wyrazić jako nieujemne liczby rzeczywiste ( np 1.2 kg dżemu)\n",
    "\n",
    "    (DETAL) wielkości produkcji mierzy się w jednostkach niepodzielnych ( 1 słoik dżemu). W tym przypadku do każdej wyprodukowanej jednostki trzeba doliczyć opakowanie za 0.5 zł"
   ]
  },
  {
   "cell_type": "code",
   "execution_count": 1,
   "metadata": {},
   "outputs": [],
   "source": [
    "from pulp import *\n",
    "import pandas as pd"
   ]
  },
  {
   "cell_type": "code",
   "execution_count": 2,
   "metadata": {},
   "outputs": [],
   "source": [
    "\n",
    "prob = LpProblem(\"Najlepsza_produkcja_hurt\",LpMaximize)  #funkcja definiująca problem\n",
    "\n",
    "dzem =LpVariable(\"Dzem\",0)\n",
    "mus=LpVariable(\"Mus\",0)\n",
    "zuzycie_jablek =LpVariable(\"Jabłka\",0)\n",
    "zuzycie_miodu =LpVariable(\"Miód\",0)      # 4 zmienne, w nawiasach nazwa oraz ograniczenie dolne\n",
    "\n",
    "prob += 16* dzem + 11* mus - 0.3 * zuzycie_jablek - 0.2 * zuzycie_miodu #funkcja wyliczająca zysk   \n",
    "prob += 8 * dzem + 2 * mus == zuzycie_jablek, \"Zuzycie jabłek\" #funkcja wyliczająca zużycie jabłek do produkcji dzemu i musu\n",
    "prob += 5 * dzem + 5 * mus == zuzycie_miodu, \"Zuzycie miodu\" # funkcja wyliczająca zużycie miodu do produkcji dżemu i musu\n",
    "prob += zuzycie_jablek <= 40, \"Maksimum jablek\" #ograniczenie wynikające z dostawy jabłek\n",
    "prob += zuzycie_miodu <= 25, \"Maksimum miodu\" # ograniczenie wynikające z dostawy miodu\n"
   ]
  },
  {
   "cell_type": "code",
   "execution_count": 3,
   "metadata": {},
   "outputs": [
    {
     "name": "stdout",
     "output_type": "stream",
     "text": [
      "Status: Optimal\n",
      "Produkty:\n",
      "Dzem = 5.0 szt.\n",
      "Jabłka = 40.0 szt.\n",
      "Miód = 25.0 szt.\n",
      "Mus = 0.0 szt.\n",
      "Zysk wyniesie 63.0 zł \n"
     ]
    }
   ],
   "source": [
    "prob.solve()                             \n",
    "print(\"Status:\", LpStatus[prob.status],) \n",
    "print(\"Produkty:\",)  \n",
    "for v in prob.variables():\n",
    "    print(v.name, \"=\", v.varValue,\"szt.\")\n",
    "print(\"Zysk wyniesie {} zł \".format (value(prob.objective)))\n",
    "#wyświetlanie statusu rozwiązywanego problemu, "
   ]
  },
  {
   "cell_type": "code",
   "execution_count": null,
   "metadata": {},
   "outputs": [],
   "source": []
  },
  {
   "cell_type": "code",
   "execution_count": null,
   "metadata": {},
   "outputs": [],
   "source": []
  },
  {
   "cell_type": "code",
   "execution_count": null,
   "metadata": {},
   "outputs": [],
   "source": []
  }
 ],
 "metadata": {
  "kernelspec": {
   "display_name": "Python 3",
   "language": "python",
   "name": "python3"
  },
  "language_info": {
   "codemirror_mode": {
    "name": "ipython",
    "version": 3
   },
   "file_extension": ".py",
   "mimetype": "text/x-python",
   "name": "python",
   "nbconvert_exporter": "python",
   "pygments_lexer": "ipython3",
   "version": "3.6.7"
  }
 },
 "nbformat": 4,
 "nbformat_minor": 2
}
