{
 "cells": [
  {
   "cell_type": "code",
   "execution_count": 7,
   "metadata": {},
   "outputs": [],
   "source": [
    "from pulp import *\n",
    "import pandas as pd"
   ]
  },
  {
   "cell_type": "code",
   "execution_count": 10,
   "metadata": {},
   "outputs": [
    {
     "name": "stdout",
     "output_type": "stream",
     "text": [
      "Optimal\n",
      "Sztuki dostarczone do baru 1,2 i 3 z browaru 1.:\n",
      "-0.0\n",
      "5.0\n",
      "10.0\n",
      "Sztuki dostarczone do baru 1,2 i 3 z browaru 2.:\n",
      "19.0\n",
      "0.0\n",
      "0.0\n",
      "Koszt całkowity minimalny =  138.0\n"
     ]
    }
   ],
   "source": [
    "# INSTANCE\n",
    "SZTUKI = [ (0,19), (0,5), (0,10), (0,19), (0,5), (0,10) ] #zakresy ilości sztuk jaką mogą dostarczyć browary do barów\n",
    "KOSZT = [15, 10, 5, 2, 15, 20] #koszty dostarczenia z browaru 1 do baru 1,2,3 oraz z browaru 2 do baru 1,2,3\n",
    "D1, D2 = [20, 20] #Ograniczenia ilościowe\n",
    "\n",
    "# MODEL\n",
    "prob = LpProblem(\"Problem\",LpMinimize)\n",
    "# zmienne- x11.x12,x13- ilosc sztuk z browaru 1 do baru 1, 2,\n",
    "x11, x12, x13 = LpVariable(\"x11\", *SZTUKI[0]), LpVariable(\"x12\", *SZTUKI[1]), LpVariable(\"x13\", *SZTUKI[2]) #Obliczanie ilości sztuk z browaru 1 do poszczególnych barów\n",
    "x21, x22, x23 = LpVariable(\"x21\", *SZTUKI[3]), LpVariable(\"x22\", *SZTUKI[4]), LpVariable(\"x23\", *SZTUKI[5]) #Obliczanie ilości sztuk z browaru 2 do poszczególnych barów\n",
    "# OBJECTIVE FUNCTION -> added before constraints => important ,\n",
    "prob += lpDot(KOSZT, [x11,x12,x13,x21,x22,x23]), \"Koszty\"\n",
    "# CONSTRAINTS\n",
    "prob+= x11+x21==19 #Bar 1\n",
    "prob+= x12+x22==5  #Bar 2   Ograniczenia ile maksymalnie sztuk może przyjąć dany bar\n",
    "prob+= x13+x23==10 #Bar 3\n",
    "\n",
    "prob += x11 + x12 + x13 <= D1 #Sumowanie wszytskich sztuk z browaru 1 i nałożenie ograniczenia producyjnego D1\n",
    "prob += x21 + x22 + x23 <= D2 #Sumowanie wszytskich sztuk z browaru 2 i nałożenie ograniczenia producyjnego D2\n",
    "\n",
    "# SOLVE\n",
    "status = prob.solve()  #Funckje wyliczajaca jak rowieźć wszytskie sztuki przy najmniejszych kosztach transportowych \n",
    "\n",
    "# PRINT SOLUTION\n",
    "print (LpStatus[status])\n",
    "print (\"Sztuki dostarczone do baru 1,2 i 3 z browaru 1.:\")\n",
    "for var in [x11,x12,x13]: #Wyswietlanie wyliczonych transportów dla browaru 1\n",
    "    print (value(var))\n",
    "print (\"Sztuki dostarczone do baru 1,2 i 3 z browaru 2.:\")\n",
    "\n",
    "for var in [x21,x22,x23]: #Wyswietlanie wyliczonych transportów dla browaru 2\n",
    "    print (value(var))\n",
    "print(\"Koszt całkowity minimalny = \", value(prob.objective)) #Najmniejszy możliwy koszt transportu \n"
   ]
  },
  {
   "cell_type": "code",
   "execution_count": null,
   "metadata": {},
   "outputs": [],
   "source": []
  },
  {
   "cell_type": "code",
   "execution_count": null,
   "metadata": {},
   "outputs": [],
   "source": []
  }
 ],
 "metadata": {
  "kernelspec": {
   "display_name": "Python 3",
   "language": "python",
   "name": "python3"
  },
  "language_info": {
   "codemirror_mode": {
    "name": "ipython",
    "version": 3
   },
   "file_extension": ".py",
   "mimetype": "text/x-python",
   "name": "python",
   "nbconvert_exporter": "python",
   "pygments_lexer": "ipython3",
   "version": "3.6.7"
  }
 },
 "nbformat": 4,
 "nbformat_minor": 2
}
